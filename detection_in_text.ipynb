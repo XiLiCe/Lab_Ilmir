{
  "nbformat": 4,
  "nbformat_minor": 0,
  "metadata": {
    "colab": {
      "provenance": []
    },
    "kernelspec": {
      "name": "python3",
      "display_name": "Python 3"
    },
    "language_info": {
      "name": "python"
    }
  },
  "cells": [
    {
      "cell_type": "code",
      "source": [
        "!pip install dateparser"
      ],
      "metadata": {
        "colab": {
          "base_uri": "https://localhost:8080/",
          "height": 0
        },
        "id": "faiTNIyTZQHE",
        "outputId": "d1e189db-574e-4094-eb46-38be8ad2496c"
      },
      "execution_count": 1,
      "outputs": [
        {
          "output_type": "stream",
          "name": "stdout",
          "text": [
            "Collecting dateparser\n",
            "  Downloading dateparser-1.2.0-py2.py3-none-any.whl (294 kB)\n",
            "\u001b[2K     \u001b[90m━━━━━━━━━━━━━━━━━━━━━━━━━━━━━━━━━━━━━━━━\u001b[0m \u001b[32m295.0/295.0 kB\u001b[0m \u001b[31m2.7 MB/s\u001b[0m eta \u001b[36m0:00:00\u001b[0m\n",
            "\u001b[?25hRequirement already satisfied: python-dateutil in /usr/local/lib/python3.10/dist-packages (from dateparser) (2.8.2)\n",
            "Requirement already satisfied: pytz in /usr/local/lib/python3.10/dist-packages (from dateparser) (2023.3.post1)\n",
            "Requirement already satisfied: regex!=2019.02.19,!=2021.8.27 in /usr/local/lib/python3.10/dist-packages (from dateparser) (2023.6.3)\n",
            "Requirement already satisfied: tzlocal in /usr/local/lib/python3.10/dist-packages (from dateparser) (5.2)\n",
            "Requirement already satisfied: six>=1.5 in /usr/local/lib/python3.10/dist-packages (from python-dateutil->dateparser) (1.16.0)\n",
            "Installing collected packages: dateparser\n",
            "Successfully installed dateparser-1.2.0\n"
          ]
        }
      ]
    },
    {
      "cell_type": "code",
      "execution_count": 3,
      "metadata": {
        "id": "TzDfS6GDXEx1"
      },
      "outputs": [],
      "source": [
        "import spacy\n",
        "import dateparser"
      ]
    },
    {
      "cell_type": "code",
      "source": [
        "!python -m spacy download ru_core_news_md\n"
      ],
      "metadata": {
        "colab": {
          "base_uri": "https://localhost:8080/",
          "height": 0
        },
        "id": "GInnBwItXVuW",
        "outputId": "71e3a7f9-a979-4749-8ffe-168c7a442d40"
      },
      "execution_count": 4,
      "outputs": [
        {
          "output_type": "stream",
          "name": "stdout",
          "text": [
            "2023-12-21 18:16:37.322011: E external/local_xla/xla/stream_executor/cuda/cuda_dnn.cc:9261] Unable to register cuDNN factory: Attempting to register factory for plugin cuDNN when one has already been registered\n",
            "2023-12-21 18:16:37.322076: E external/local_xla/xla/stream_executor/cuda/cuda_fft.cc:607] Unable to register cuFFT factory: Attempting to register factory for plugin cuFFT when one has already been registered\n",
            "2023-12-21 18:16:37.323840: E external/local_xla/xla/stream_executor/cuda/cuda_blas.cc:1515] Unable to register cuBLAS factory: Attempting to register factory for plugin cuBLAS when one has already been registered\n",
            "2023-12-21 18:16:38.574398: W tensorflow/compiler/tf2tensorrt/utils/py_utils.cc:38] TF-TRT Warning: Could not find TensorRT\n",
            "Collecting ru-core-news-md==3.6.0\n",
            "  Downloading https://github.com/explosion/spacy-models/releases/download/ru_core_news_md-3.6.0/ru_core_news_md-3.6.0-py3-none-any.whl (41.9 MB)\n",
            "\u001b[2K     \u001b[90m━━━━━━━━━━━━━━━━━━━━━━━━━━━━━━━━━━━━━━━━\u001b[0m \u001b[32m41.9/41.9 MB\u001b[0m \u001b[31m17.6 MB/s\u001b[0m eta \u001b[36m0:00:00\u001b[0m\n",
            "\u001b[?25hRequirement already satisfied: spacy<3.7.0,>=3.6.0 in /usr/local/lib/python3.10/dist-packages (from ru-core-news-md==3.6.0) (3.6.1)\n",
            "Collecting pymorphy3>=1.0.0 (from ru-core-news-md==3.6.0)\n",
            "  Downloading pymorphy3-1.3.1-py3-none-any.whl (55 kB)\n",
            "\u001b[2K     \u001b[90m━━━━━━━━━━━━━━━━━━━━━━━━━━━━━━━━━━━━━━━━\u001b[0m \u001b[32m55.7/55.7 kB\u001b[0m \u001b[31m1.6 MB/s\u001b[0m eta \u001b[36m0:00:00\u001b[0m\n",
            "\u001b[?25hCollecting dawg-python>=0.7.1 (from pymorphy3>=1.0.0->ru-core-news-md==3.6.0)\n",
            "  Downloading DAWG_Python-0.7.2-py2.py3-none-any.whl (11 kB)\n",
            "Collecting pymorphy3-dicts-ru (from pymorphy3>=1.0.0->ru-core-news-md==3.6.0)\n",
            "  Downloading pymorphy3_dicts_ru-2.4.417150.4580142-py2.py3-none-any.whl (8.4 MB)\n",
            "\u001b[2K     \u001b[90m━━━━━━━━━━━━━━━━━━━━━━━━━━━━━━━━━━━━━━━━\u001b[0m \u001b[32m8.4/8.4 MB\u001b[0m \u001b[31m57.7 MB/s\u001b[0m eta \u001b[36m0:00:00\u001b[0m\n",
            "\u001b[?25hRequirement already satisfied: spacy-legacy<3.1.0,>=3.0.11 in /usr/local/lib/python3.10/dist-packages (from spacy<3.7.0,>=3.6.0->ru-core-news-md==3.6.0) (3.0.12)\n",
            "Requirement already satisfied: spacy-loggers<2.0.0,>=1.0.0 in /usr/local/lib/python3.10/dist-packages (from spacy<3.7.0,>=3.6.0->ru-core-news-md==3.6.0) (1.0.5)\n",
            "Requirement already satisfied: murmurhash<1.1.0,>=0.28.0 in /usr/local/lib/python3.10/dist-packages (from spacy<3.7.0,>=3.6.0->ru-core-news-md==3.6.0) (1.0.10)\n",
            "Requirement already satisfied: cymem<2.1.0,>=2.0.2 in /usr/local/lib/python3.10/dist-packages (from spacy<3.7.0,>=3.6.0->ru-core-news-md==3.6.0) (2.0.8)\n",
            "Requirement already satisfied: preshed<3.1.0,>=3.0.2 in /usr/local/lib/python3.10/dist-packages (from spacy<3.7.0,>=3.6.0->ru-core-news-md==3.6.0) (3.0.9)\n",
            "Requirement already satisfied: thinc<8.2.0,>=8.1.8 in /usr/local/lib/python3.10/dist-packages (from spacy<3.7.0,>=3.6.0->ru-core-news-md==3.6.0) (8.1.12)\n",
            "Requirement already satisfied: wasabi<1.2.0,>=0.9.1 in /usr/local/lib/python3.10/dist-packages (from spacy<3.7.0,>=3.6.0->ru-core-news-md==3.6.0) (1.1.2)\n",
            "Requirement already satisfied: srsly<3.0.0,>=2.4.3 in /usr/local/lib/python3.10/dist-packages (from spacy<3.7.0,>=3.6.0->ru-core-news-md==3.6.0) (2.4.8)\n",
            "Requirement already satisfied: catalogue<2.1.0,>=2.0.6 in /usr/local/lib/python3.10/dist-packages (from spacy<3.7.0,>=3.6.0->ru-core-news-md==3.6.0) (2.0.10)\n",
            "Requirement already satisfied: typer<0.10.0,>=0.3.0 in /usr/local/lib/python3.10/dist-packages (from spacy<3.7.0,>=3.6.0->ru-core-news-md==3.6.0) (0.9.0)\n",
            "Requirement already satisfied: pathy>=0.10.0 in /usr/local/lib/python3.10/dist-packages (from spacy<3.7.0,>=3.6.0->ru-core-news-md==3.6.0) (0.10.3)\n",
            "Requirement already satisfied: smart-open<7.0.0,>=5.2.1 in /usr/local/lib/python3.10/dist-packages (from spacy<3.7.0,>=3.6.0->ru-core-news-md==3.6.0) (6.4.0)\n",
            "Requirement already satisfied: tqdm<5.0.0,>=4.38.0 in /usr/local/lib/python3.10/dist-packages (from spacy<3.7.0,>=3.6.0->ru-core-news-md==3.6.0) (4.66.1)\n",
            "Requirement already satisfied: numpy>=1.15.0 in /usr/local/lib/python3.10/dist-packages (from spacy<3.7.0,>=3.6.0->ru-core-news-md==3.6.0) (1.23.5)\n",
            "Requirement already satisfied: requests<3.0.0,>=2.13.0 in /usr/local/lib/python3.10/dist-packages (from spacy<3.7.0,>=3.6.0->ru-core-news-md==3.6.0) (2.31.0)\n",
            "Requirement already satisfied: pydantic!=1.8,!=1.8.1,<3.0.0,>=1.7.4 in /usr/local/lib/python3.10/dist-packages (from spacy<3.7.0,>=3.6.0->ru-core-news-md==3.6.0) (1.10.13)\n",
            "Requirement already satisfied: jinja2 in /usr/local/lib/python3.10/dist-packages (from spacy<3.7.0,>=3.6.0->ru-core-news-md==3.6.0) (3.1.2)\n",
            "Requirement already satisfied: setuptools in /usr/local/lib/python3.10/dist-packages (from spacy<3.7.0,>=3.6.0->ru-core-news-md==3.6.0) (67.7.2)\n",
            "Requirement already satisfied: packaging>=20.0 in /usr/local/lib/python3.10/dist-packages (from spacy<3.7.0,>=3.6.0->ru-core-news-md==3.6.0) (23.2)\n",
            "Requirement already satisfied: langcodes<4.0.0,>=3.2.0 in /usr/local/lib/python3.10/dist-packages (from spacy<3.7.0,>=3.6.0->ru-core-news-md==3.6.0) (3.3.0)\n",
            "Requirement already satisfied: typing-extensions>=4.2.0 in /usr/local/lib/python3.10/dist-packages (from pydantic!=1.8,!=1.8.1,<3.0.0,>=1.7.4->spacy<3.7.0,>=3.6.0->ru-core-news-md==3.6.0) (4.5.0)\n",
            "Requirement already satisfied: charset-normalizer<4,>=2 in /usr/local/lib/python3.10/dist-packages (from requests<3.0.0,>=2.13.0->spacy<3.7.0,>=3.6.0->ru-core-news-md==3.6.0) (3.3.2)\n",
            "Requirement already satisfied: idna<4,>=2.5 in /usr/local/lib/python3.10/dist-packages (from requests<3.0.0,>=2.13.0->spacy<3.7.0,>=3.6.0->ru-core-news-md==3.6.0) (3.6)\n",
            "Requirement already satisfied: urllib3<3,>=1.21.1 in /usr/local/lib/python3.10/dist-packages (from requests<3.0.0,>=2.13.0->spacy<3.7.0,>=3.6.0->ru-core-news-md==3.6.0) (2.0.7)\n",
            "Requirement already satisfied: certifi>=2017.4.17 in /usr/local/lib/python3.10/dist-packages (from requests<3.0.0,>=2.13.0->spacy<3.7.0,>=3.6.0->ru-core-news-md==3.6.0) (2023.11.17)\n",
            "Requirement already satisfied: blis<0.8.0,>=0.7.8 in /usr/local/lib/python3.10/dist-packages (from thinc<8.2.0,>=8.1.8->spacy<3.7.0,>=3.6.0->ru-core-news-md==3.6.0) (0.7.11)\n",
            "Requirement already satisfied: confection<1.0.0,>=0.0.1 in /usr/local/lib/python3.10/dist-packages (from thinc<8.2.0,>=8.1.8->spacy<3.7.0,>=3.6.0->ru-core-news-md==3.6.0) (0.1.4)\n",
            "Requirement already satisfied: click<9.0.0,>=7.1.1 in /usr/local/lib/python3.10/dist-packages (from typer<0.10.0,>=0.3.0->spacy<3.7.0,>=3.6.0->ru-core-news-md==3.6.0) (8.1.7)\n",
            "Requirement already satisfied: MarkupSafe>=2.0 in /usr/local/lib/python3.10/dist-packages (from jinja2->spacy<3.7.0,>=3.6.0->ru-core-news-md==3.6.0) (2.1.3)\n",
            "Installing collected packages: pymorphy3-dicts-ru, dawg-python, pymorphy3, ru-core-news-md\n",
            "Successfully installed dawg-python-0.7.2 pymorphy3-1.3.1 pymorphy3-dicts-ru-2.4.417150.4580142 ru-core-news-md-3.6.0\n",
            "\u001b[38;5;2m✔ Download and installation successful\u001b[0m\n",
            "You can now load the package via spacy.load('ru_core_news_md')\n"
          ]
        }
      ]
    },
    {
      "cell_type": "code",
      "source": [
        "def extract_named_entities_spacy_russian_bioes(text):\n",
        "    nlp = spacy.load(\"ru_core_news_md\")\n",
        "    doc = nlp(text)\n",
        "\n",
        "    named_entities = [(ent.text, ent.start_char, ent.end_char, ent.label_) for ent in doc.ents]\n",
        "\n",
        "    for sent in doc.sents:\n",
        "        for i, token in enumerate(sent):\n",
        "            if token.text.lower() == 'год' and i > 0 and sent[i - 1].is_digit and i < len(sent) - 1 and not sent[i + 1].is_alpha:\n",
        "                continue\n",
        "            if dateparser.parse(token.text, languages=['ru']):\n",
        "                start, end = token.idx, token.idx + len(token)\n",
        "                named_entities.append((token.text, start, end, \"DATE\"))\n",
        "\n",
        "    return named_entities\n",
        "\n",
        "def map_to_russian_labels(entity_type):\n",
        "    label_mapping = {\n",
        "        \"PER\": \"Человек\",\n",
        "        \"LOC\": \"Локация\",\n",
        "        \"ORG\": \"Организация\",\n",
        "        \"DATE\": \"Дата\",\n",
        "    }\n",
        "    return label_mapping.get(entity_type, entity_type)\n",
        "\n",
        "def print_entities(entities):\n",
        "    for entity, start, end, entity_type in entities:\n",
        "        russian_label = map_to_russian_labels(entity_type)\n",
        "        print(f\"{entity}: {russian_label} ({start}-{end})\")\n",
        "\n",
        "if __name__ == \"__main__\":\n",
        "    input_text = input()\n",
        "    entities = extract_named_entities_spacy_russian_bioes(input_text)\n",
        "    print_entities(entities)"
      ],
      "metadata": {
        "colab": {
          "base_uri": "https://localhost:8080/",
          "height": 0
        },
        "id": "f588b80oXHg7",
        "outputId": "a14f6608-2949-4949-ab57-0c5a550c9aff"
      },
      "execution_count": 6,
      "outputs": [
        {
          "output_type": "stream",
          "name": "stdout",
          "text": [
            "Стерлитамак — город в России, второй (после Уфы) по численности населения город в Башкирии, административный центр Стерлитамакского района, в состав которого не входит. Город республиканского значения, образует муниципальное образование Городской округ город Стерлитамак как единственный населённый пункт в его составе. Крупный центр химической промышленности и машиностроения, один из центров Стерлитамакской агломерации. Основан в 1735 году как почтовая станция Ашкадарский Ям, статус города присвоен в 1781 году. В прошлом уездный город Уфимской области Уфимского наместничества (1781/82–1796)год; Оренбургской губернии (1796–1865)год, Уфимской губернии (1865–1920)год, столица Автономной Советской Башкирской Республики (1919—1922)год, а также административный центр Стерлитамакского кантона (1920—1930)год и Стерлитамакской области БАССР (1952—1953)год\n",
            "России: Локация (22-28)\n",
            "Уфы: Локация (44-47)\n",
            "Башкирии: Локация (82-90)\n",
            "Стерлитамакского района: Локация (115-138)\n",
            "Городской округ: Локация (237-252)\n",
            "Стерлитамак: Локация (259-270)\n",
            "Крупный центр химической промышленности и машиностроения: Организация (320-376)\n",
            "Стерлитамакской агломерации: Локация (394-421)\n",
            "Ашкадарский Ям: Локация (464-478)\n",
            "Уфимской области: Локация (540-556)\n",
            "Уфимского наместничества: Локация (557-581)\n",
            "Оренбургской губернии: Локация (601-622)\n",
            "Уфимской губернии: Локация (639-656)\n",
            "Автономной Советской Башкирской Республики: Локация (681-723)\n",
            "Стерлитамакского кантона: Локация (771-795)\n",
            "Стерлитамакской области: Локация (813-836)\n",
            "БАССР: Локация (837-842)\n",
            "один: Дата (378-382)\n",
            "1735: Дата (433-437)\n",
            "году: Дата (438-442)\n",
            "1781: Дата (505-509)\n",
            "году: Дата (510-514)\n",
            "1781/82–1796)год: Дата (583-599)\n",
            "1796–1865)год: Дата (624-637)\n",
            "1865–1920)год: Дата (658-671)\n",
            "1919—1922)год: Дата (725-738)\n",
            "1920—1930)год: Дата (797-810)\n",
            "1952—1953)год: Дата (844-857)\n"
          ]
        }
      ]
    },
    {
      "cell_type": "markdown",
      "source": [
        "Стерлитамак — город в России, второй (после Уфы) по численности населения город в Башкирии, административный центр Стерлитамакского района, в состав которого не входит. Город республиканского значения, образует муниципальное образование Городской округ город Стерлитамак как единственный населённый пункт в его составе. Крупный центр химической промышленности и машиностроения, один из центров Стерлитамакской агломерации. Основан в 1735 году как почтовая станция Ашкадарский Ям, статус города присвоен в 1781 году. В прошлом уездный город Уфимской области Уфимского наместничества (1781/82–1796)год; Оренбургской губернии (1796–1865)год, Уфимской губернии (1865–1920)год, столица Автономной Советской Башкирской Республики (1919—1922)год, а также административный центр Стерлитамакского кантона (1920—1930)год и Стерлитамакской области БАССР (1952—1953)год"
      ],
      "metadata": {
        "id": "Ho2G_frP4U_Y"
      }
    }
  ]
}